{
 "cells": [
  {
   "cell_type": "code",
   "execution_count": 0,
   "metadata": {
    "colab": {},
    "colab_type": "code",
    "id": "2KIy_tPzsfvW"
   },
   "outputs": [],
   "source": [
    "import tensorflow as tf\n",
    "import matplotlib.pyplot as plt\n",
    "import numpy as np\n",
    "from SpectralLayer import *"
   ]
  },
  {
   "cell_type": "code",
   "execution_count": 4,
   "metadata": {
    "colab": {
     "base_uri": "https://localhost:8080/",
     "height": 275
    },
    "colab_type": "code",
    "id": "S9kHdhSMU8mM",
    "outputId": "6f59b3d5-e18d-4734-fd0f-8421ce843a81"
   },
   "outputs": [
    {
     "data": {
      "image/png": "[encoded data removed]",
      "text/plain": [
       "<Figure size 288x288 with 1 Axes>"
      ]
     },
     "metadata": {
      "needs_background": "light",
      "tags": []
     },
     "output_type": "display_data"
    }
   ],
   "source": [
    "#data download and preprocess\n",
    "mnist = tf.keras.datasets.mnist\n",
    "\n",
    "(x_train, y_train), (x_test, y_test) = mnist.load_data()\n",
    "x_train, x_test = x_train / 255.0 , x_test / 255.0\n",
    "plt.matshow(x_train[0])\n",
    "plt.show()\n",
    "\n",
    "flat_train = np.reshape(x_train,[x_train.shape[0],28*28])\n",
    "flat_test = np.reshape(x_test,[x_test.shape[0],28*28])"
   ]
  },
  {
   "cell_type": "code",
   "execution_count": 5,
   "metadata": {
    "colab": {
     "base_uri": "https://localhost:8080/",
     "height": 73
    },
    "colab_type": "code",
    "id": "2Fy4-AqWO5fx",
    "outputId": "4d062141-0871-4b40-bdd0-bea00ae3bcfd"
   },
   "outputs": [
    {
     "name": "stdout",
     "output_type": "stream",
     "text": [
      "Shape of the adjacency matrix: 914\n",
      "New shape of training set: (914, 60000)\n",
      "New shape of test set: (914, 60000)\n"
     ]
    }
   ],
   "source": [
    "#define the layers dimensions and all the counters we will need (also reshapes the data accordingly)\n",
    "L = np.array([28*28,100,20 ,10]) #layers dimensions\n",
    "#blocks dimensions\n",
    "s = np.zeros([L.shape[0],],dtype = np.int32)\n",
    "s[0] = L[0]\n",
    "for i in range(1,L.shape[0]):\n",
    "    s[i] = s[i-1]+L[i]\n",
    "print(\"Shape of the adjacency matrix:\", L.sum())\n",
    "\n",
    "#reshape train and test data to fit the correct matrix size (adds zeros at the bottom)\n",
    "data = np.zeros([L.sum(),x_train.shape[0]])\n",
    "data[:flat_train.shape[1]] = np.transpose(flat_train)\n",
    "print(\"New shape of training set:\", data.shape)\n",
    "\n",
    "test = np.zeros([L.sum(),x_test.shape[0]])\n",
    "test [:flat_test.shape[1]] = np.transpose(flat_test)\n",
    "print(\"New shape of test set:\", data.shape)"
   ]
  },
  {
   "cell_type": "code",
   "execution_count": 0,
   "metadata": {
    "colab": {},
    "colab_type": "code",
    "id": "hK5_IaKPq9Cr"
   },
   "outputs": [],
   "source": [
    "#Build a model of 3 spectral layers according to the dimensions given previously\n",
    "inputs = tf.keras.layers.Input(shape=(L.sum(),),dtype='float32') \n",
    "layer1 = SpectralLayer(s[0],s[1],L[0],L[1],L.sum(),is_base_trainable=False,activation='tanh')(inputs)\n",
    "layer2 = SpectralLayer(s[1],s[2],L[1],L[2],L.sum(),is_base_trainable=True,activation='tanh')(layer1)\n",
    "layer3 = SpectralLayer(s[2],s[3],L[2],L[3],L.sum(),is_base_trainable=True,activation='softmax')(layer2)\n",
    "\n",
    "model = tf.keras.models.Model(inputs=inputs, outputs=layer3)\n",
    "\n",
    "opt = tf.keras.optimizers.Adamax(learning_rate=0.1)\n",
    "model.compile(optimizer=opt,\n",
    "              loss='sparse_categorical_crossentropy',\n",
    "              metrics=['accuracy'])"
   ]
  },
  {
   "cell_type": "code",
   "execution_count": 7,
   "metadata": {
    "colab": {
     "base_uri": "https://localhost:8080/",
     "height": 392
    },
    "colab_type": "code",
    "id": "gUuxop9Vr1hq",
    "outputId": "747474b7-a586-4314-a32a-cb925db12a71"
   },
   "outputs": [
    {
     "name": "stdout",
     "output_type": "stream",
     "text": [
      "Epoch 1/10\n",
      "15/15 [==============================] - 1s 44ms/step - loss: 1.4299 - accuracy: 0.5332\n",
      "Epoch 2/10\n",
      "15/15 [==============================] - 1s 43ms/step - loss: 0.6536 - accuracy: 0.7914\n",
      "Epoch 3/10\n",
      "15/15 [==============================] - 1s 43ms/step - loss: 0.4564 - accuracy: 0.8600\n",
      "Epoch 4/10\n",
      "15/15 [==============================] - 1s 44ms/step - loss: 0.3806 - accuracy: 0.8842\n",
      "Epoch 5/10\n",
      "15/15 [==============================] - 1s 43ms/step - loss: 0.3440 - accuracy: 0.8958\n",
      "Epoch 6/10\n",
      "15/15 [==============================] - 1s 44ms/step - loss: 0.3207 - accuracy: 0.9031\n",
      "Epoch 7/10\n",
      "15/15 [==============================] - 1s 42ms/step - loss: 0.3030 - accuracy: 0.9081\n",
      "Epoch 8/10\n",
      "15/15 [==============================] - 1s 43ms/step - loss: 0.2872 - accuracy: 0.9133\n",
      "Epoch 9/10\n",
      "15/15 [==============================] - 1s 44ms/step - loss: 0.2764 - accuracy: 0.9159\n",
      "Epoch 10/10\n",
      "15/15 [==============================] - 1s 43ms/step - loss: 0.2662 - accuracy: 0.9187\n"
     ]
    }
   ],
   "source": [
    "#Train for some epochs\n",
    "epochs=10\n",
    "history = model.fit(np.transpose(data), y_train,batch_size=4072, verbose=1, epochs=epochs)"
   ]
  },
  {
   "cell_type": "code",
   "execution_count": 8,
   "metadata": {
    "colab": {
     "base_uri": "https://localhost:8080/",
     "height": 36
    },
    "colab_type": "code",
    "id": "Qfl7MjUoqnh-",
    "outputId": "0289286b-7479-4413-85cc-80d9f1ecea0b"
   },
   "outputs": [
    {
     "name": "stdout",
     "output_type": "stream",
     "text": [
      "1/1 [==============================] - 0s 2ms/step - loss: 0.2634 - accuracy: 0.9177\n"
     ]
    }
   ],
   "source": [
    "tested = model.evaluate(np.transpose(test), y_test, batch_size = 10000,verbose=1)\n",
    "predicted = model.predict(np.transpose(test))"
   ]
  },
  {
   "cell_type": "code",
   "execution_count": 9,
   "metadata": {
    "colab": {
     "base_uri": "https://localhost:8080/",
     "height": 312
    },
    "colab_type": "code",
    "id": "Bf7hSqhYiC7e",
    "outputId": "9c35d0a3-23b4-477f-f0d6-812fcf9c316a"
   },
   "outputs": [
    {
     "name": "stdout",
     "output_type": "stream",
     "text": [
      "Prediction:  6\n",
      "Ground truth:  6\n"
     ]
    },
    {
     "data": {
      "image/png": "[encoded data removed]",
      "text/plain": [
       "<Figure size 288x288 with 1 Axes>"
      ]
     },
     "metadata": {
      "needs_background": "light",
      "tags": []
     },
     "output_type": "display_data"
    }
   ],
   "source": [
    "i=np.random.randint(10000)\n",
    "print(\"Prediction: \", np.argmax(predicted[i]))\n",
    "print(\"Ground truth: \", y_test[i])\n",
    "plt.matshow(x_test[i])\n",
    "plt.show()"
   ]
  },
  {
   "cell_type": "code",
   "execution_count": 0,
   "metadata": {
    "colab": {},
    "colab_type": "code",
    "id": "40mXg8xcvSdM"
   },
   "outputs": [],
   "source": []
  }
 ],
 "metadata": {
  "accelerator": "GPU",
  "colab": {
   "collapsed_sections": [],
   "name": "SpectralLearning.ipynb",
   "provenance": []
  },
  "kernelspec": {
   "display_name": "Python 3",
   "language": "python",
   "name": "python3"
  },
  "language_info": {
   "codemirror_mode": {
    "name": "ipython",
    "version": 3
   },
   "file_extension": ".py",
   "mimetype": "text/x-python",
   "name": "python",
   "nbconvert_exporter": "python",
   "pygments_lexer": "ipython3",
   "version": "3.5.6"
  }
 },
 "nbformat": 4,
 "nbformat_minor": 1
}
