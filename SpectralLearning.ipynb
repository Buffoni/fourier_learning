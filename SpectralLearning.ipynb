{
 "cells": [
  {
   "cell_type": "code",
   "execution_count": 1,
   "metadata": {
    "colab": {},
    "colab_type": "code",
    "id": "2KIy_tPzsfvW",
    "pycharm": {
     "is_executing": true
    }
   },
   "outputs": [],
   "source": [
    "import tensorflow as tf\n",
    "import matplotlib.pyplot as plt\n",
    "import numpy as np\n",
    "from SpectralLayer import *"
   ]
  },
  {
   "cell_type": "code",
   "execution_count": 2,
   "metadata": {
    "colab": {
     "base_uri": "https://localhost:8080/",
     "height": 275
    },
    "colab_type": "code",
    "id": "S9kHdhSMU8mM",
    "outputId": "68b88578-f845-42fc-eecb-3bc800c97646"
   },
   "outputs": [
    {
     "data": {
      "image/png": "[encoded data removed]",
      "text/plain": [
       "<Figure size 288x288 with 1 Axes>"
      ]
     },
     "metadata": {
      "needs_background": "light"
     },
     "output_type": "display_data"
    }
   ],
   "source": [
    "#data download and preprocess\n",
    "mnist = tf.keras.datasets.mnist\n",
    "\n",
    "(x_train, y_train), (x_test, y_test) = mnist.load_data()\n",
    "x_train, x_test = x_train / 255.0 , x_test / 255.0\n",
    "plt.matshow(x_train[0])\n",
    "plt.show()\n",
    "\n",
    "flat_train = np.reshape(x_train,[x_train.shape[0],28*28])\n",
    "flat_test = np.reshape(x_test,[x_test.shape[0],28*28])"
   ]
  },
  {
   "cell_type": "code",
   "execution_count": 3,
   "metadata": {
    "colab": {},
    "colab_type": "code",
    "id": "hK5_IaKPq9Cr"
   },
   "outputs": [
    {
     "name": "stdout",
     "output_type": "stream",
     "text": [
      "Model: \"sequential\"\n",
      "_________________________________________________________________\n",
      "Layer (type)                 Output Shape              Param #   \n",
      "=================================================================\n",
      "spectral_layer (SpectralLaye (None, 500)               500       \n",
      "_________________________________________________________________\n",
      "spectral_layer_1 (SpectralLa (None, 200)               100200    \n",
      "_________________________________________________________________\n",
      "spectral_layer_2 (SpectralLa (None, 10)                2010      \n",
      "=================================================================\n",
      "Total params: 102,710\n",
      "Trainable params: 102,710\n",
      "Non-trainable params: 0\n",
      "_________________________________________________________________\n"
     ]
    }
   ],
   "source": [
    "#Build a model of 3 spectral layers \n",
    "model = tf.keras.Sequential()\n",
    "model.add(tf.keras.layers.Input(shape=(28*28,),dtype='float32'))\n",
    "model.add(SpectralLayer(500,is_base_trainable=False,activation='tanh'))\n",
    "model.add(SpectralLayer(200,is_base_trainable=True,activation='tanh'))\n",
    "model.add(SpectralLayer(10,is_base_trainable=True,activation='softmax'))\n",
    "\n",
    "opt = tf.keras.optimizers.Adamax(learning_rate=0.01)#about 0.05  linear and 0.03 eigvalue/0.01eigvector for the non linear\n",
    "model.compile(optimizer=opt,\n",
    "              loss='sparse_categorical_crossentropy',\n",
    "              metrics=['accuracy'])\n",
    "model.summary()"
   ]
  },
  {
   "cell_type": "code",
   "execution_count": 4,
   "metadata": {
    "colab": {
     "base_uri": "https://localhost:8080/",
     "height": 766
    },
    "colab_type": "code",
    "id": "gUuxop9Vr1hq",
    "outputId": "2e124311-a486-43e5-81f5-955afd0ef8a7"
   },
   "outputs": [
    {
     "name": "stdout",
     "output_type": "stream",
     "text": [
      "Train on 60000 samples\n",
      "Epoch 1/20\n",
      "60000/60000 [==============================] - 27s 452us/sample - loss: 1.6085 - accuracy: 0.5578\n",
      "Epoch 2/20\n",
      "60000/60000 [==============================] - 24s 401us/sample - loss: 0.6836 - accuracy: 0.7924\n",
      "Epoch 3/20\n",
      "60000/60000 [==============================] - 24s 397us/sample - loss: 0.4273 - accuracy: 0.8767\n",
      "Epoch 4/20\n",
      "60000/60000 [==============================] - 24s 408us/sample - loss: 0.3441 - accuracy: 0.8991\n",
      "Epoch 5/20\n",
      "60000/60000 [==============================] - 24s 399us/sample - loss: 0.3014 - accuracy: 0.9126\n",
      "Epoch 6/20\n",
      "60000/60000 [==============================] - 24s 399us/sample - loss: 0.2714 - accuracy: 0.9213\n",
      "Epoch 7/20\n",
      "60000/60000 [==============================] - 24s 398us/sample - loss: 0.2459 - accuracy: 0.9290\n",
      "Epoch 8/20\n",
      "60000/60000 [==============================] - 24s 398us/sample - loss: 0.2237 - accuracy: 0.9359\n",
      "Epoch 9/20\n",
      "60000/60000 [==============================] - 24s 394us/sample - loss: 0.2041 - accuracy: 0.9416\n",
      "Epoch 10/20\n",
      "60000/60000 [==============================] - 24s 393us/sample - loss: 0.1871 - accuracy: 0.9469\n",
      "Epoch 11/20\n",
      "60000/60000 [==============================] - 23s 391us/sample - loss: 0.1713 - accuracy: 0.9517\n",
      "Epoch 12/20\n",
      "60000/60000 [==============================] - 24s 397us/sample - loss: 0.1580 - accuracy: 0.9548\n",
      "Epoch 13/20\n",
      "60000/60000 [==============================] - 24s 395us/sample - loss: 0.1456 - accuracy: 0.9589\n",
      "Epoch 14/20\n",
      "60000/60000 [==============================] - 24s 393us/sample - loss: 0.1345 - accuracy: 0.9624\n",
      "Epoch 15/20\n",
      "60000/60000 [==============================] - 24s 394us/sample - loss: 0.1244 - accuracy: 0.9650\n",
      "Epoch 16/20\n",
      "60000/60000 [==============================] - 24s 398us/sample - loss: 0.1151 - accuracy: 0.9677\n",
      "Epoch 17/20\n",
      "60000/60000 [==============================] - 24s 407us/sample - loss: 0.1072 - accuracy: 0.9700\n",
      "Epoch 18/20\n",
      "60000/60000 [==============================] - 26s 432us/sample - loss: 0.0996 - accuracy: 0.9726\n",
      "Epoch 19/20\n",
      "60000/60000 [==============================] - 25s 424us/sample - loss: 0.0923 - accuracy: 0.9750\n",
      "Epoch 20/20\n",
      "60000/60000 [==============================] - 24s 394us/sample - loss: 0.0862 - accuracy: 0.9770\n"
     ]
    }
   ],
   "source": [
    "#Train for some epochs\n",
    "epochs=20\n",
    "history = model.fit(flat_train, y_train,batch_size=5000, verbose=1, epochs=epochs)"
   ]
  },
  {
   "cell_type": "code",
   "execution_count": 7,
   "metadata": {
    "colab": {
     "base_uri": "https://localhost:8080/",
     "height": 36
    },
    "colab_type": "code",
    "id": "Qfl7MjUoqnh-",
    "outputId": "c171d221-ba47-4ef1-ece0-3cd00f3976e5"
   },
   "outputs": [
    {
     "name": "stdout",
     "output_type": "stream",
     "text": [
      "10000/1 - 4s - loss: 0.1090 - accuracy: 0.9679\n"
     ]
    }
   ],
   "source": [
    "tested = model.evaluate(flat_test, y_test, batch_size = 100,verbose=2)"
   ]
  },
  {
   "cell_type": "code",
   "execution_count": 11,
   "metadata": {
    "colab": {
     "base_uri": "https://localhost:8080/",
     "height": 312
    },
    "colab_type": "code",
    "id": "Bf7hSqhYiC7e",
    "outputId": "0f246380-d8da-4685-ba8d-68992b5fd13e"
   },
   "outputs": [
    {
     "name": "stdout",
     "output_type": "stream",
     "text": [
      "Prediction:  5\n",
      "Ground truth:  5\n"
     ]
    },
    {
     "data": {
      "image/png": "[encoded data removed]",
      "text/plain": [
       "<Figure size 288x288 with 1 Axes>"
      ]
     },
     "metadata": {
      "needs_background": "light"
     },
     "output_type": "display_data"
    }
   ],
   "source": [
    "i = np.random.randint(10000)\n",
    "predicted = model.predict(flat_test[i:i+1])\n",
    "print(\"Prediction: \", np.argmax(predicted))\n",
    "print(\"Ground truth: \", y_test[i])\n",
    "plt.matshow(x_test[i])\n",
    "plt.show()"
   ]
  },
  {
   "cell_type": "code",
   "execution_count": null,
   "metadata": {
    "colab": {},
    "colab_type": "code",
    "id": "S7qU0V1L8GC6"
   },
   "outputs": [],
   "source": []
  }
 ],
 "metadata": {
  "accelerator": "GPU",
  "colab": {
   "collapsed_sections": [],
   "name": "SpectralLearning.ipynb",
   "provenance": []
  },
  "kernelspec": {
   "display_name": "Python 3",
   "language": "python",
   "name": "python3"
  },
  "language_info": {
   "codemirror_mode": {
    "name": "ipython",
    "version": 3
   },
   "file_extension": ".py",
   "mimetype": "text/x-python",
   "name": "python",
   "nbconvert_exporter": "python",
   "pygments_lexer": "ipython3",
   "version": "3.5.6"
  },
  "pycharm": {
   "stem_cell": {
    "cell_type": "raw",
    "metadata": {
     "collapsed": false
    },
    "source": []
   }
  }
 },
 "nbformat": 4,
 "nbformat_minor": 1
}
