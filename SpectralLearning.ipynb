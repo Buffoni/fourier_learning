{
 "cells": [
  {
   "cell_type": "code",
   "execution_count": 0,
   "metadata": {
    "colab": {},
    "colab_type": "code",
    "id": "2KIy_tPzsfvW"
   },
   "outputs": [],
   "source": [
    "import tensorflow as tf\n",
    "import matplotlib.pyplot as plt\n",
    "import numpy as np\n",
    "import pickle as pk\n",
    "from SpectralLayer import *"
   ]
  },
  {
   "cell_type": "code",
   "execution_count": 4,
   "metadata": {
    "colab": {
     "base_uri": "https://localhost:8080/",
     "height": 275
    },
    "colab_type": "code",
    "id": "S9kHdhSMU8mM",
    "outputId": "68b88578-f845-42fc-eecb-3bc800c97646"
   },
   "outputs": [
    {
     "data": {
      "image/png": "[encoded data removed]",
      "text/plain": [
       "<Figure size 288x288 with 1 Axes>"
      ]
     },
     "metadata": {
      "needs_background": "light",
      "tags": []
     },
     "output_type": "display_data"
    }
   ],
   "source": [
    "#data download and preprocess\n",
    "mnist = tf.keras.datasets.mnist\n",
    "\n",
    "(x_train, y_train), (x_test, y_test) = mnist.load_data()\n",
    "x_train, x_test = x_train / 255.0 , x_test / 255.0\n",
    "plt.matshow(x_train[0])\n",
    "plt.show()\n",
    "\n",
    "flat_train = np.reshape(x_train,[x_train.shape[0],28*28])\n",
    "flat_test = np.reshape(x_test,[x_test.shape[0],28*28])"
   ]
  },
  {
   "cell_type": "code",
   "execution_count": 5,
   "metadata": {
    "colab": {
     "base_uri": "https://localhost:8080/",
     "height": 73
    },
    "colab_type": "code",
    "id": "2Fy4-AqWO5fx",
    "outputId": "a047fc58-b394-4cb9-effe-0fe3ed71b0d7"
   },
   "outputs": [
    {
     "name": "stdout",
     "output_type": "stream",
     "text": [
      "Shape of the adjacency matrix: 1374\n",
      "New shape of training set: (1374, 60000)\n",
      "New shape of test set: (1374, 60000)\n"
     ]
    }
   ],
   "source": [
    "#define the layers dimensions and all the counters we will need (also reshapes the data accordingly)\n",
    "L = np.array([28*28,500,80 ,10]) #layers dimensions\n",
    "#blocks dimensions\n",
    "s = np.zeros([L.shape[0],],dtype = np.int32)\n",
    "s[0] = L[0]\n",
    "for i in range(1,L.shape[0]):\n",
    "    s[i] = s[i-1]+L[i]\n",
    "print(\"Shape of the adjacency matrix:\", L.sum())\n",
    "\n",
    "#reshape train and test data to fit the correct matrix size (adds zeros at the bottom)\n",
    "data = np.zeros([L.sum(),x_train.shape[0]])\n",
    "data[:flat_train.shape[1]] = np.transpose(flat_train)\n",
    "print(\"New shape of training set:\", data.shape)\n",
    "\n",
    "test = np.zeros([L.sum(),x_test.shape[0]])\n",
    "test [:flat_test.shape[1]] = np.transpose(flat_test)\n",
    "print(\"New shape of test set:\", data.shape)"
   ]
  },
  {
   "cell_type": "code",
   "execution_count": 0,
   "metadata": {
    "colab": {},
    "colab_type": "code",
    "id": "hK5_IaKPq9Cr"
   },
   "outputs": [],
   "source": [
    "#Build a model of 3 spectral layers according to the dimensions given previously\n",
    "inputs = tf.keras.layers.Input(shape=(L.sum(),),dtype='float32') \n",
    "layer1 = SpectralLayer(s[0],s[1],L[0],L[1],L.sum(),is_base_trainable=False,activation='tanh')(inputs)\n",
    "layer2 = SpectralLayer(s[1],s[2],L[1],L[2],L.sum(),is_base_trainable=True,activation='tanh')(layer1)\n",
    "layer3 = SpectralLayer(s[2],s[3],L[2],L[3],L.sum(),is_base_trainable=True,activation='softmax')(layer2)\n",
    "\n",
    "model = tf.keras.models.Model(inputs=inputs, outputs=layer3)\n",
    "\n",
    "opt = tf.keras.optimizers.Adamax(learning_rate=0.05)\n",
    "model.compile(optimizer=opt,\n",
    "              loss='sparse_categorical_crossentropy',\n",
    "              metrics=['accuracy'])"
   ]
  },
  {
   "cell_type": "code",
   "execution_count": 7,
   "metadata": {
    "colab": {
     "base_uri": "https://localhost:8080/",
     "height": 766
    },
    "colab_type": "code",
    "id": "gUuxop9Vr1hq",
    "outputId": "2e124311-a486-43e5-81f5-955afd0ef8a7"
   },
   "outputs": [
    {
     "name": "stdout",
     "output_type": "stream",
     "text": [
      "Epoch 1/20\n",
      "15/15 [==============================] - 2s 133ms/step - loss: 3.0142 - accuracy: 0.2464\n",
      "Epoch 2/20\n",
      "15/15 [==============================] - 2s 132ms/step - loss: 1.7584 - accuracy: 0.5167\n",
      "Epoch 3/20\n",
      "15/15 [==============================] - 2s 132ms/step - loss: 0.8292 - accuracy: 0.7583\n",
      "Epoch 4/20\n",
      "15/15 [==============================] - 2s 133ms/step - loss: 0.5132 - accuracy: 0.8445\n",
      "Epoch 5/20\n",
      "15/15 [==============================] - 2s 132ms/step - loss: 0.3990 - accuracy: 0.8801\n",
      "Epoch 6/20\n",
      "15/15 [==============================] - 2s 133ms/step - loss: 0.3407 - accuracy: 0.8993\n",
      "Epoch 7/20\n",
      "15/15 [==============================] - 2s 133ms/step - loss: 0.3035 - accuracy: 0.9107\n",
      "Epoch 8/20\n",
      "15/15 [==============================] - 2s 132ms/step - loss: 0.2763 - accuracy: 0.9194\n",
      "Epoch 9/20\n",
      "15/15 [==============================] - 2s 134ms/step - loss: 0.2562 - accuracy: 0.9256\n",
      "Epoch 10/20\n",
      "15/15 [==============================] - 2s 133ms/step - loss: 0.2380 - accuracy: 0.9308\n",
      "Epoch 11/20\n",
      "15/15 [==============================] - 2s 133ms/step - loss: 0.2225 - accuracy: 0.9348\n",
      "Epoch 12/20\n",
      "15/15 [==============================] - 2s 133ms/step - loss: 0.2087 - accuracy: 0.9388\n",
      "Epoch 13/20\n",
      "15/15 [==============================] - 2s 132ms/step - loss: 0.1980 - accuracy: 0.9417\n",
      "Epoch 14/20\n",
      "15/15 [==============================] - 2s 134ms/step - loss: 0.1872 - accuracy: 0.9447\n",
      "Epoch 15/20\n",
      "15/15 [==============================] - 2s 134ms/step - loss: 0.1779 - accuracy: 0.9476\n",
      "Epoch 16/20\n",
      "15/15 [==============================] - 2s 133ms/step - loss: 0.1700 - accuracy: 0.9498\n",
      "Epoch 17/20\n",
      "15/15 [==============================] - 2s 133ms/step - loss: 0.1626 - accuracy: 0.9527\n",
      "Epoch 18/20\n",
      "15/15 [==============================] - 2s 133ms/step - loss: 0.1552 - accuracy: 0.9541\n",
      "Epoch 19/20\n",
      "15/15 [==============================] - 2s 132ms/step - loss: 0.1478 - accuracy: 0.9565\n",
      "Epoch 20/20\n",
      "15/15 [==============================] - 2s 131ms/step - loss: 0.1420 - accuracy: 0.9584\n"
     ]
    }
   ],
   "source": [
    "#Train for some epochs\n",
    "epochs=20\n",
    "history = model.fit(np.transpose(data), y_train,batch_size=4072, verbose=1, epochs=epochs)"
   ]
  },
  {
   "cell_type": "code",
   "execution_count": 8,
   "metadata": {
    "colab": {
     "base_uri": "https://localhost:8080/",
     "height": 36
    },
    "colab_type": "code",
    "id": "Qfl7MjUoqnh-",
    "outputId": "c171d221-ba47-4ef1-ece0-3cd00f3976e5"
   },
   "outputs": [
    {
     "name": "stdout",
     "output_type": "stream",
     "text": [
      "100/100 [==============================] - 3s 29ms/step - loss: 0.1672 - accuracy: 0.9494\n"
     ]
    }
   ],
   "source": [
    "tested = model.evaluate(np.transpose(test), y_test, batch_size = 100,verbose=1)\n",
    "predicted = model.predict(np.transpose(test))"
   ]
  },
  {
   "cell_type": "code",
   "execution_count": 9,
   "metadata": {
    "colab": {
     "base_uri": "https://localhost:8080/",
     "height": 312
    },
    "colab_type": "code",
    "id": "Bf7hSqhYiC7e",
    "outputId": "0f246380-d8da-4685-ba8d-68992b5fd13e"
   },
   "outputs": [
    {
     "name": "stdout",
     "output_type": "stream",
     "text": [
      "Prediction:  3\n",
      "Ground truth:  3\n"
     ]
    },
    {
     "data": {
      "image/png": "[encoded data removed]",
      "text/plain": [
       "<Figure size 288x288 with 1 Axes>"
      ]
     },
     "metadata": {
      "needs_background": "light",
      "tags": []
     },
     "output_type": "display_data"
    }
   ],
   "source": [
    "i = np.random.randint(10000)\n",
    "print(\"Prediction: \", np.argmax(predicted[i]))\n",
    "print(\"Ground truth: \", y_test[i])\n",
    "plt.matshow(x_test[i])\n",
    "plt.show()"
   ]
  },
  {
   "cell_type": "code",
   "execution_count": 0,
   "metadata": {
    "colab": {},
    "colab_type": "code",
    "id": "S7qU0V1L8GC6"
   },
   "outputs": [],
   "source": []
  }
 ],
 "metadata": {
  "accelerator": "GPU",
  "colab": {
   "collapsed_sections": [],
   "name": "SpectralLearning.ipynb",
   "provenance": []
  },
  "kernelspec": {
   "display_name": "Python 3",
   "language": "python",
   "name": "python3"
  },
  "language_info": {
   "codemirror_mode": {
    "name": "ipython",
    "version": 3
   },
   "file_extension": ".py",
   "mimetype": "text/x-python",
   "name": "python",
   "nbconvert_exporter": "python",
   "pygments_lexer": "ipython3",
   "version": "3.5.6"
  }
 },
 "nbformat": 4,
 "nbformat_minor": 1
}
