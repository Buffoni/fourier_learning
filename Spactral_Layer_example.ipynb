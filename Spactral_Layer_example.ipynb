{
 "cells": [
  {
   "cell_type": "code",
   "execution_count": 1,
   "metadata": {
    "colab": {
     "base_uri": "https://localhost:8080/"
    },
    "id": "aitehy8V5QL_",
    "outputId": "4677e298-8485-45fa-f2e7-987593adeef3"
   },
   "outputs": [
    {
     "name": "stdout",
     "output_type": "stream",
     "text": [
      "2.3.1\n"
     ]
    }
   ],
   "source": [
    "import tensorflow as tf\n",
    "import matplotlib.pyplot as plt\n",
    "import numpy as np\n",
    "from SpectralLayer import *"
   ]
  },
  {
   "cell_type": "code",
   "execution_count": 7,
   "metadata": {
    "colab": {
     "base_uri": "https://localhost:8080/",
     "height": 379
    },
    "id": "rr-zUeAB5U8e",
    "outputId": "fb404406-976c-412c-ceec-f27feec4f51d"
   },
   "outputs": [
    {
     "data": {
      "image/png": "[encoded data removed]",
      "text/plain": [
       "<Figure size 288x288 with 1 Axes>"
      ]
     },
     "metadata": {
      "needs_background": "light"
     },
     "output_type": "display_data"
    }
   ],
   "source": [
    "#data download and preprocess\n",
    "mnist = tf.keras.datasets.mnist\n",
    "\n",
    "(x_train, y_train), (x_test, y_test) = mnist.load_data()\n",
    "x_train, x_test = x_train / 255.0 , x_test / 255.0\n",
    "plt.matshow(x_train[0])\n",
    "plt.show()\n",
    "\n",
    "flat_train = np.reshape(x_train,[x_train.shape[0],28*28])\n",
    "flat_test = np.reshape(x_test,[x_test.shape[0],28*28])\n"
   ]
  },
  {
   "cell_type": "code",
   "execution_count": 25,
   "metadata": {
    "id": "o3q9ueU-5a8i"
   },
   "outputs": [
    {
     "name": "stdout",
     "output_type": "stream",
     "text": [
      "Model: \"functional_13\"\n",
      "_________________________________________________________________\n",
      "Layer (type)                 Output Shape              Param #   \n",
      "=================================================================\n",
      "input_8 (InputLayer)         [(None, 784)]             0         \n",
      "_________________________________________________________________\n",
      "spectral_18 (Spectral)       (None, 2000)              1570784   \n",
      "_________________________________________________________________\n",
      "spectral_19 (Spectral)       (None, 200)               402200    \n",
      "_________________________________________________________________\n",
      "spectral_20 (Spectral)       (None, 10)                2210      \n",
      "=================================================================\n",
      "Total params: 1,975,194\n",
      "Trainable params: 5,194\n",
      "Non-trainable params: 1,970,000\n",
      "_________________________________________________________________\n"
     ]
    }
   ],
   "source": [
    "#This configurations trains only the eigenvalues\n",
    "spectral_config={\n",
    "    'is_base_trainable' : False,\n",
    "    'is_diag_start_trainable' : True,\n",
    "    'is_diag_end_trainable' : True,\n",
    "    'use_bias' : False\n",
    "}\n",
    "\n",
    "#Build a model of 3 spectral layers according to the dimensions given previously\n",
    "inputs = tf.keras.layers.Input(shape=(784,),dtype='float32') \n",
    "layer1 = Spectral(2000, **spectral_config, activation='tanh')(inputs)\n",
    "layer2 = Spectral(200, **spectral_config, activation='tanh')(layer1)\n",
    "output_lay = Spectral(10, **spectral_config, activation='softmax')(layer2)\n",
    "\n",
    "model = tf.keras.models.Model(inputs=inputs, outputs=output_lay)\n",
    "\n",
    "opt = tf.keras.optimizers.Adamax(learning_rate=0.02)\n",
    "model.compile(optimizer=opt,\n",
    "              loss='sparse_categorical_crossentropy',\n",
    "              metrics=['accuracy'])\n",
    "model.summary()"
   ]
  },
  {
   "cell_type": "code",
   "execution_count": 26,
   "metadata": {
    "id": "iAyi0khz5br1"
   },
   "outputs": [
    {
     "name": "stdout",
     "output_type": "stream",
     "text": [
      "Epoch 1/30\n",
      "WARNING:tensorflow:Callbacks method `on_train_batch_end` is slow compared to the batch time (batch time: 0.0020s vs `on_train_batch_end` time: 0.0270s). Check your callbacks.\n",
      "120/120 - 1s - loss: 1.0782 - accuracy: 0.7415\n",
      "Epoch 2/30\n",
      "120/120 - 1s - loss: 0.3811 - accuracy: 0.8895\n",
      "Epoch 3/30\n",
      "120/120 - 1s - loss: 0.3210 - accuracy: 0.9072\n",
      "Epoch 4/30\n",
      "120/120 - 1s - loss: 0.2866 - accuracy: 0.9171\n",
      "Epoch 5/30\n",
      "120/120 - 1s - loss: 0.2614 - accuracy: 0.9238\n",
      "Epoch 6/30\n",
      "120/120 - 1s - loss: 0.2412 - accuracy: 0.9302\n",
      "Epoch 7/30\n",
      "120/120 - 1s - loss: 0.2242 - accuracy: 0.9354\n",
      "Epoch 8/30\n",
      "120/120 - 1s - loss: 0.2103 - accuracy: 0.9393\n",
      "Epoch 9/30\n",
      "120/120 - 1s - loss: 0.1985 - accuracy: 0.9428\n",
      "Epoch 10/30\n",
      "120/120 - 1s - loss: 0.1877 - accuracy: 0.9455\n",
      "Epoch 11/30\n",
      "120/120 - 1s - loss: 0.1780 - accuracy: 0.9491\n",
      "Epoch 12/30\n",
      "120/120 - 1s - loss: 0.1706 - accuracy: 0.9507\n",
      "Epoch 13/30\n",
      "120/120 - 1s - loss: 0.1632 - accuracy: 0.9528\n",
      "Epoch 14/30\n",
      "120/120 - 1s - loss: 0.1567 - accuracy: 0.9545\n",
      "Epoch 15/30\n",
      "120/120 - 1s - loss: 0.1514 - accuracy: 0.9559\n",
      "Epoch 16/30\n",
      "120/120 - 1s - loss: 0.1461 - accuracy: 0.9575\n",
      "Epoch 17/30\n",
      "120/120 - 1s - loss: 0.1412 - accuracy: 0.9591\n",
      "Epoch 18/30\n",
      "120/120 - 1s - loss: 0.1367 - accuracy: 0.9597\n",
      "Epoch 19/30\n",
      "120/120 - 1s - loss: 0.1328 - accuracy: 0.9615\n",
      "Epoch 20/30\n",
      "120/120 - 1s - loss: 0.1295 - accuracy: 0.9616\n",
      "Epoch 21/30\n",
      "120/120 - 1s - loss: 0.1255 - accuracy: 0.9632\n",
      "Epoch 22/30\n",
      "120/120 - 1s - loss: 0.1224 - accuracy: 0.9639\n",
      "Epoch 23/30\n",
      "120/120 - 1s - loss: 0.1191 - accuracy: 0.9653\n",
      "Epoch 24/30\n",
      "120/120 - 1s - loss: 0.1163 - accuracy: 0.9659\n",
      "Epoch 25/30\n",
      "120/120 - 1s - loss: 0.1137 - accuracy: 0.9671\n",
      "Epoch 26/30\n",
      "120/120 - 1s - loss: 0.1108 - accuracy: 0.9672\n",
      "Epoch 27/30\n",
      "120/120 - 1s - loss: 0.1084 - accuracy: 0.9683\n",
      "Epoch 28/30\n",
      "120/120 - 1s - loss: 0.1058 - accuracy: 0.9690\n",
      "Epoch 29/30\n",
      "120/120 - 1s - loss: 0.1035 - accuracy: 0.9701\n",
      "Epoch 30/30\n",
      "120/120 - 1s - loss: 0.1016 - accuracy: 0.9704\n"
     ]
    }
   ],
   "source": [
    "#Train for some epochs\n",
    "epochs=30\n",
    "history = model.fit(flat_train, y_train, batch_size=500, verbose=2, epochs=epochs)"
   ]
  },
  {
   "cell_type": "code",
   "execution_count": 16,
   "metadata": {
    "id": "hotPLlED5fOn"
   },
   "outputs": [
    {
     "name": "stdout",
     "output_type": "stream",
     "text": [
      "100/100 [==============================] - 0s 3ms/step - loss: 0.2305 - accuracy: 0.9323\n"
     ]
    }
   ],
   "source": [
    "tested = model.evaluate(flat_test, y_test, batch_size = 100,verbose=1)\n",
    "predicted = model.predict(flat_test)"
   ]
  },
  {
   "cell_type": "code",
   "execution_count": 18,
   "metadata": {
    "id": "l-mk-pqq5gee"
   },
   "outputs": [
    {
     "name": "stdout",
     "output_type": "stream",
     "text": [
      "Prediction:  6\n",
      "Ground truth:  6\n"
     ]
    },
    {
     "data": {
      "image/png": "[encoded data removed]",
      "text/plain": [
       "<Figure size 288x288 with 1 Axes>"
      ]
     },
     "metadata": {
      "needs_background": "light"
     },
     "output_type": "display_data"
    }
   ],
   "source": [
    "i = np.random.randint(10000)\n",
    "print(\"Prediction: \", np.argmax(predicted[i]))\n",
    "print(\"Ground truth: \", y_test[i])\n",
    "plt.matshow(x_test[i])\n",
    "plt.show()"
   ]
  }
 ],
 "metadata": {
  "colab": {
   "collapsed_sections": [],
   "name": "GitHub Spectral.ipynb",
   "provenance": []
  },
  "kernelspec": {
   "display_name": "PyCharm (Git_Hub Spectral)",
   "language": "python",
   "name": "pycharm-d1e6c556"
  },
  "language_info": {
   "codemirror_mode": {
    "name": "ipython",
    "version": 3
   },
   "file_extension": ".py",
   "mimetype": "text/x-python",
   "name": "python",
   "nbconvert_exporter": "python",
   "pygments_lexer": "ipython3",
   "version": "3.7.9"
  }
 },
 "nbformat": 4,
 "nbformat_minor": 1
}
